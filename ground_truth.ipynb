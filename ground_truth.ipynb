{
 "cells": [
  {
   "cell_type": "code",
   "execution_count": 1,
   "metadata": {},
   "outputs": [],
   "source": [
    "import cv2\n",
    "import json\n",
    "import numpy as np\n",
    "import seaborn as sns\n",
    "from tqdm import tqdm\n",
    "import matplotlib.pyplot as plt\n",
    "from sklearn.metrics import confusion_matrix"
   ]
  },
  {
   "cell_type": "code",
   "execution_count": 67,
   "metadata": {},
   "outputs": [
    {
     "name": "stderr",
     "output_type": "stream",
     "text": [
      "100%|██████████| 10/10 [01:30<00:00,  9.07s/it]\n"
     ]
    }
   ],
   "source": [
    "tools = ['accendino', 'cacciavite', 'chiave', 'forbici', 'martello', 'metro', 'nastro', 'pappagallo', 'penna', 'spillatrice']\n",
    "tp_tot, tn_tot, fp_tot, fn_tot = [], [], [], []\n",
    "\n",
    "\n",
    "yolo_model = cv2.dnn.readNetFromDarknet(\"yolov3.cfg\", \"yolov3.weights\")\n",
    "\n",
    "\n",
    "for tool in tqdm(tools):\n",
    "\n",
    "    with open(f\"C:/Users\\mcm23\\OneDrive\\Desktop\\GitHub\\Object_Detection\\images\\{tool}\\{tool}_gt.json\", 'r') as f:\n",
    "        ground_truth_file = json.load(f)\n",
    "\n",
    "    for pos, el in enumerate(ground_truth_file):\n",
    "        # Ground truth.\n",
    "        x_pos = ground_truth_file[el]['regions'][0]['shape_attributes']['all_points_x']\n",
    "        y_pos = ground_truth_file[el]['regions'][0]['shape_attributes']['all_points_y']\n",
    "        vertices = np.array([[x_pos[i], y_pos[i]] for i in range(len(x_pos))])\n",
    "\n",
    "        image = cv2.imread(f\"C:/Users\\mcm23\\OneDrive\\Desktop\\GitHub\\Object_Detection\\images\\{tool}\\{tool}_{pos+1}.png\")\n",
    "\n",
    "        # Preprocessing delle immagini: conversione in scala di grigi.\n",
    "        gray = cv2.cvtColor(image, cv2.COLOR_BGR2GRAY)\n",
    "        threshold = cv2.threshold(gray, 0, 255, cv2.THRESH_BINARY + cv2.THRESH_OTSU)[1]\n",
    "\n",
    "        # Applicare ground truth all'immagine.\n",
    "        truth_mask = np.zeros_like(threshold)\n",
    "        cv2.fillPoly(truth_mask, [vertices], 255)\n",
    "        truth_mask = truth_mask.astype(bool).flatten()\n",
    "\n",
    "\n",
    "\n",
    "        pixel_values = image.reshape((-1, 3))\n",
    "\n",
    "        # Convert pixel values to float\n",
    "        pixel_values = np.float32(pixel_values)\n",
    "\n",
    "        # Define criteria for K-Means algorithm\n",
    "        criteria = (cv2.TERM_CRITERIA_EPS + cv2.TERM_CRITERIA_MAX_ITER, 100, 0.2)\n",
    "\n",
    "        # Define number of clusters\n",
    "        k = 2\n",
    "\n",
    "        # Run K-Means algorithm\n",
    "        _, labels, centers = cv2.kmeans(pixel_values, k, None, criteria, 10, cv2.KMEANS_RANDOM_CENTERS)\n",
    "\n",
    "        # Convert centers to 8-bit values\n",
    "        centers = np.uint8(centers)\n",
    "\n",
    "        # Reshape labels to image shape\n",
    "        labels = labels.reshape(image.shape[:2])\n",
    "\n",
    "        # Apply color to each cluster\n",
    "        segmented_image = centers[labels]\n",
    "\n",
    "\n",
    "\n",
    "        opening = labels.astype(bool)\n",
    "        opening = np.array([not elem for elem in opening.flatten()])\n",
    "\n",
    "        # Confronto tra segmentazione e ground truth.\n",
    "        ground_truth = truth_mask.flatten()\n",
    "        predictions = [not elem for elem in opening.flatten()]\n",
    "        tn, fp, fn, tp = confusion_matrix(ground_truth, predictions, labels=[True, False]).ravel()\n",
    "        tp_tot.append(tp)\n",
    "        tn_tot.append(tn)\n",
    "        fp_tot.append(fp)\n",
    "        fn_tot.append(fn)"
   ]
  },
  {
   "cell_type": "code",
   "execution_count": 69,
   "metadata": {},
   "outputs": [
    {
     "data": {
      "image/png": "[encoded data removed]",
      "text/plain": [
       "<Figure size 640x480 with 1 Axes>"
      ]
     },
     "metadata": {},
     "output_type": "display_data"
    }
   ],
   "source": [
    "sum_tp, sum_tn, sum_fp, sum_fn = sum(tp_tot), sum(tn_tot), sum(fp_tot), sum(fn_tot) \n",
    "\n",
    "cf_matrix = np.array([[sum_tp/(sum_tp+sum_fp), sum_fp/(sum_tp+sum_fp)],\n",
    "                       [sum_fn/(sum_tn+sum_fn), sum_tn/(sum_tn+sum_fn)]])\n",
    "\n",
    "labels = ['Tool', 'Background']\n",
    "sns.heatmap(cf_matrix, annot=True, cmap='viridis',  xticklabels=labels, yticklabels=labels, cbar=False, fmt=\".1%\")\n",
    "plt.title(\"K-means (per clustering)\")\n",
    "plt.xlabel('Actual')\n",
    "plt.ylabel('Predicted');"
   ]
  }
 ],
 "metadata": {
  "kernelspec": {
   "display_name": "Python 3",
   "language": "python",
   "name": "python3"
  },
  "language_info": {
   "codemirror_mode": {
    "name": "ipython",
    "version": 3
   },
   "file_extension": ".py",
   "mimetype": "text/x-python",
   "name": "python",
   "nbconvert_exporter": "python",
   "pygments_lexer": "ipython3",
   "version": "3.10.11"
  },
  "orig_nbformat": 4
 },
 "nbformat": 4,
 "nbformat_minor": 2
}
