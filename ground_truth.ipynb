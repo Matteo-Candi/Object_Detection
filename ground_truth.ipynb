{
 "cells": [
  {
   "cell_type": "code",
   "execution_count": 68,
   "metadata": {},
   "outputs": [],
   "source": [
    "import cv2\n",
    "import json\n",
    "import numpy as np\n",
    "import seaborn as sns\n",
    "from tqdm import tqdm\n",
    "import matplotlib.pyplot as plt\n",
    "from sklearn.metrics import jaccard_score, confusion_matrix"
   ]
  },
  {
   "cell_type": "code",
   "execution_count": 86,
   "metadata": {},
   "outputs": [
    {
     "name": "stderr",
     "output_type": "stream",
     "text": [
      "100%|██████████| 1/1 [00:02<00:00,  2.81s/it]\n"
     ]
    }
   ],
   "source": [
    "tools = ['accendino']\n",
    "\n",
    "tp_tot, tn_tot, fp_tot, fn_tot = [], [], [], []\n",
    "\n",
    "for tool in tqdm(tools):\n",
    "\n",
    "    with open(f\"C:/Users\\mcm23\\OneDrive\\Desktop\\GitHub\\Object_Detection\\images\\{tool}\\{tool}_gt.json\", 'r') as f:\n",
    "        ground_truth_file = json.load(f)\n",
    "\n",
    "    for pos, el in enumerate(ground_truth_file):\n",
    "        x_pos = ground_truth_file[el]['regions'][0]['shape_attributes']['all_points_x']\n",
    "        y_pos = ground_truth_file[el]['regions'][0]['shape_attributes']['all_points_y']\n",
    "\n",
    "        image = cv2.imread(f\"C:/Users\\mcm23\\OneDrive\\Desktop\\GitHub\\Object_Detection\\images\\{tool}\\{tool}_{pos+1}.png\")\n",
    "\n",
    "        vertices = np.array([[x_pos[i], y_pos[i]] for i in range(len(x_pos))])\n",
    "\n",
    "        gray = cv2.cvtColor(image, cv2.COLOR_BGR2GRAY)\n",
    "        threshold = cv2.threshold(gray, 0, 255, cv2.THRESH_BINARY + cv2.THRESH_OTSU)[1]\n",
    "\n",
    "        truth_mask = np.zeros_like(threshold)\n",
    "        cv2.fillPoly(truth_mask, [vertices], 255)\n",
    "        truth_mask = truth_mask.astype(bool).flatten()\n",
    "\n",
    "\n",
    "        kernel = np.ones((5,5), np.uint8)\n",
    "        opening = cv2.morphologyEx(threshold, cv2.MORPH_OPEN, kernel, iterations=2)\n",
    "        opening = opening.astype(bool)\n",
    "        opening = np.array([not elem for elem in opening.flatten()])\n",
    "\n",
    "        \n",
    "        ground_truth = truth_mask.flatten()\n",
    "        predictions = [not elem for elem in opening.flatten()]\n",
    "\n",
    "        # Calculate the confusion matrix\n",
    "        tn, fp, fn, tp = confusion_matrix(ground_truth, predictions, labels=[True, False]).ravel()\n",
    "        tp_tot.append(tp)\n",
    "        tn_tot.append(tn)\n",
    "        fp_tot.append(fp)\n",
    "        fn_tot.append(fn)"
   ]
  },
  {
   "cell_type": "code",
   "execution_count": 87,
   "metadata": {},
   "outputs": [
    {
     "data": {
      "image/png": "[encoded data removed]",
      "text/plain": [
       "<Figure size 640x480 with 1 Axes>"
      ]
     },
     "metadata": {},
     "output_type": "display_data"
    }
   ],
   "source": [
    "sum_tp = sum(tp_tot)\n",
    "sum_tn = sum(tn_tot)\n",
    "sum_fp = sum(fp_tot)\n",
    "sum_fn = sum(fn_tot)\n",
    "\n",
    "tot = sum_tp + sum_tn + sum_fp + sum_fn\n",
    "\n",
    "\n",
    "cf_matrix = np.array([[sum_tp/tot, sum_fp/tot],\n",
    "                       [sum_fn/tot, sum_tn/tot]])\n",
    "\n",
    "labels = ['Tool', 'Background']\n",
    "sns.heatmap(cf_matrix, annot=True, cmap='viridis',  xticklabels=labels, yticklabels=labels, cbar=False)\n",
    "plt.xlabel('Actual')\n",
    "plt.ylabel('Predicted');"
   ]
  }
 ],
 "metadata": {
  "kernelspec": {
   "display_name": "Python 3",
   "language": "python",
   "name": "python3"
  },
  "language_info": {
   "codemirror_mode": {
    "name": "ipython",
    "version": 3
   },
   "file_extension": ".py",
   "mimetype": "text/x-python",
   "name": "python",
   "nbconvert_exporter": "python",
   "pygments_lexer": "ipython3",
   "version": "3.10.11"
  },
  "orig_nbformat": 4
 },
 "nbformat": 4,
 "nbformat_minor": 2
}
