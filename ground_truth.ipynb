{
 "cells": [
  {
   "cell_type": "code",
   "execution_count": 1,
   "metadata": {},
   "outputs": [],
   "source": [
    "import cv2\n",
    "import json\n",
    "import numpy as np\n",
    "import seaborn as sns\n",
    "from tqdm import tqdm\n",
    "import matplotlib.pyplot as plt\n",
    "from sklearn.metrics import confusion_matrix"
   ]
  },
  {
   "cell_type": "code",
   "execution_count": 87,
   "metadata": {},
   "outputs": [
    {
     "name": "stderr",
     "output_type": "stream",
     "text": [
      "  0%|          | 0/10 [00:01<?, ?it/s]"
     ]
    },
    {
     "name": "stdout",
     "output_type": "stream",
     "text": [
      "[[0.04817301 0.0331963  0.24037144 ... 0.         0.         0.        ]\n",
      " [0.05127843 0.0330331  0.2208218  ... 0.         0.         0.        ]\n",
      " [0.05158268 0.03098811 0.95951784 ... 0.         0.         0.        ]\n",
      " ...\n",
      " [0.9675611  0.95663047 0.4342801  ... 0.         0.         0.        ]\n",
      " [0.96433705 0.9623503  0.29471108 ... 0.         0.         0.        ]\n",
      " [0.9681673  0.95853174 0.83766407 ... 0.         0.         0.        ]]\n",
      "(507, 85)\n"
     ]
    },
    {
     "name": "stderr",
     "output_type": "stream",
     "text": [
      "\n"
     ]
    },
    {
     "ename": "error",
     "evalue": "OpenCV(4.7.0) D:\\a\\opencv-python\\opencv-python\\opencv\\modules\\core\\src\\arithm.cpp:230: error: (-215:Assertion failed) (mtype == CV_8U || mtype == CV_8S) && _mask.sameSize(*psrc1) in function 'cv::binary_op'\n",
     "output_type": "error",
     "traceback": [
      "\u001b[1;31m---------------------------------------------------------------------------\u001b[0m",
      "\u001b[1;31merror\u001b[0m                                     Traceback (most recent call last)",
      "\u001b[1;32mc:\\Users\\mcm23\\OneDrive\\Desktop\\GitHub\\Object_Detection\\ground_truth.ipynb Cell 2\u001b[0m in \u001b[0;36m4\n\u001b[0;32m     <a href='vscode-notebook-cell:/c%3A/Users/mcm23/OneDrive/Desktop/GitHub/Object_Detection/ground_truth.ipynb#W1sZmlsZQ%3D%3D?line=45'>46</a>\u001b[0m mask \u001b[39m=\u001b[39m cv2\u001b[39m.\u001b[39mthreshold(yolo_output[\u001b[39m0\u001b[39m], \u001b[39m0.5\u001b[39m, \u001b[39m255\u001b[39m, cv2\u001b[39m.\u001b[39mTHRESH_BINARY)[\u001b[39m1\u001b[39m]\u001b[39m.\u001b[39mastype(\u001b[39m'\u001b[39m\u001b[39muint8\u001b[39m\u001b[39m'\u001b[39m)\n\u001b[0;32m     <a href='vscode-notebook-cell:/c%3A/Users/mcm23/OneDrive/Desktop/GitHub/Object_Detection/ground_truth.ipynb#W1sZmlsZQ%3D%3D?line=46'>47</a>\u001b[0m \u001b[39mprint\u001b[39m(mask\u001b[39m.\u001b[39mshape)\n\u001b[1;32m---> <a href='vscode-notebook-cell:/c%3A/Users/mcm23/OneDrive/Desktop/GitHub/Object_Detection/ground_truth.ipynb#W1sZmlsZQ%3D%3D?line=47'>48</a>\u001b[0m segmented_image \u001b[39m=\u001b[39m cv2\u001b[39m.\u001b[39;49mbitwise_and(input_image, input_image, mask\u001b[39m=\u001b[39;49mmask)\n\u001b[0;32m     <a href='vscode-notebook-cell:/c%3A/Users/mcm23/OneDrive/Desktop/GitHub/Object_Detection/ground_truth.ipynb#W1sZmlsZQ%3D%3D?line=50'>51</a>\u001b[0m opening \u001b[39m=\u001b[39m segmented_image\u001b[39m.\u001b[39mastype(\u001b[39mbool\u001b[39m)\n\u001b[0;32m     <a href='vscode-notebook-cell:/c%3A/Users/mcm23/OneDrive/Desktop/GitHub/Object_Detection/ground_truth.ipynb#W1sZmlsZQ%3D%3D?line=51'>52</a>\u001b[0m opening \u001b[39m=\u001b[39m np\u001b[39m.\u001b[39marray([\u001b[39mnot\u001b[39;00m elem \u001b[39mfor\u001b[39;00m elem \u001b[39min\u001b[39;00m opening\u001b[39m.\u001b[39mflatten()])\n",
      "\u001b[1;31merror\u001b[0m: OpenCV(4.7.0) D:\\a\\opencv-python\\opencv-python\\opencv\\modules\\core\\src\\arithm.cpp:230: error: (-215:Assertion failed) (mtype == CV_8U || mtype == CV_8S) && _mask.sameSize(*psrc1) in function 'cv::binary_op'\n"
     ]
    }
   ],
   "source": [
    "tools = ['accendino', 'cacciavite', 'chiave', 'forbici', 'martello', 'metro', 'nastro', 'pappagallo', 'penna', 'spillatrice']\n",
    "tp_tot, tn_tot, fp_tot, fn_tot = [], [], [], []\n",
    "\n",
    "\n",
    "yolo_model = cv2.dnn.readNetFromDarknet(\"yolov3.cfg\", \"yolov3.weights\")\n",
    "\n",
    "\n",
    "for tool in tqdm(tools):\n",
    "\n",
    "    with open(f\"C:/Users\\mcm23\\OneDrive\\Desktop\\GitHub\\Object_Detection\\images\\{tool}\\{tool}_gt.json\", 'r') as f:\n",
    "        ground_truth_file = json.load(f)\n",
    "\n",
    "    for pos, el in enumerate(ground_truth_file):\n",
    "        # Ground truth.\n",
    "        x_pos = ground_truth_file[el]['regions'][0]['shape_attributes']['all_points_x']\n",
    "        y_pos = ground_truth_file[el]['regions'][0]['shape_attributes']['all_points_y']\n",
    "        vertices = np.array([[x_pos[i], y_pos[i]] for i in range(len(x_pos))])\n",
    "\n",
    "        image = cv2.imread(f\"C:/Users\\mcm23\\OneDrive\\Desktop\\GitHub\\Object_Detection\\images\\{tool}\\{tool}_{pos+1}.png\")\n",
    "\n",
    "        # Preprocessing delle immagini: conversione in scala di grigi.\n",
    "        gray = cv2.cvtColor(image, cv2.COLOR_BGR2GRAY)\n",
    "        threshold = cv2.threshold(gray, 0, 255, cv2.THRESH_BINARY + cv2.THRESH_OTSU)[1]\n",
    "\n",
    "        # Applicare ground truth all'immagine.\n",
    "        truth_mask = np.zeros_like(threshold)\n",
    "        cv2.fillPoly(truth_mask, [vertices], 255)\n",
    "        truth_mask = truth_mask.astype(bool).flatten()\n",
    "\n",
    "        # 1) 58%\n",
    "        # kernel = np.ones((5,5), np.uint8)\n",
    "        # opening = cv2.morphologyEx(threshold, cv2.MORPH_OPEN, kernel, iterations=2)\n",
    "\n",
    "        # 2) 66%\n",
    "        # edges = cv2.Canny(threshold, threshold1=200, threshold2=900)\n",
    "        # kernel = cv2.getStructuringElement(cv2.MORPH_RECT, (5,5))\n",
    "        # closed_edges = cv2.morphologyEx(edges, cv2.MORPH_CLOSE, kernel)\n",
    "\n",
    "        # edges = cv2.Canny(threshold, threshold1=20, threshold2=200)\n",
    "\n",
    "\n",
    "        input_image = cv2.resize(image, (416, 416))\n",
    "        yolo_model.setInput(cv2.dnn.blobFromImage(input_image, 1/255.0, (416, 416), swapRB=True, crop=False))\n",
    "        yolo_output = yolo_model.forward([\"yolo_82\", \"yolo_94\", \"yolo_106\"])\n",
    "        print(yolo_output[0])\n",
    "        mask = cv2.threshold(yolo_output[0], 0.5, 255, cv2.THRESH_BINARY)[1].astype('uint8')\n",
    "        print(mask.shape)\n",
    "        segmented_image = cv2.bitwise_and(input_image, input_image, mask=mask)\n",
    "\n",
    "\n",
    "        opening = segmented_image.astype(bool)\n",
    "        opening = np.array([not elem for elem in opening.flatten()])\n",
    "\n",
    "        # Confronto tra segmentazione e ground truth.\n",
    "        ground_truth = truth_mask.flatten()\n",
    "        predictions = [not elem for elem in opening.flatten()]\n",
    "        tn, fp, fn, tp = confusion_matrix(ground_truth, predictions, labels=[True, False]).ravel()\n",
    "        tp_tot.append(tp)\n",
    "        tn_tot.append(tn)\n",
    "        fp_tot.append(fp)\n",
    "        fn_tot.append(fn)"
   ]
  },
  {
   "cell_type": "code",
   "execution_count": 88,
   "metadata": {},
   "outputs": [
    {
     "data": {
      "text/plain": [
       "507"
      ]
     },
     "execution_count": 88,
     "metadata": {},
     "output_type": "execute_result"
    }
   ],
   "source": [
    "13*13*3"
   ]
  },
  {
   "cell_type": "code",
   "execution_count": 33,
   "metadata": {},
   "outputs": [
    {
     "data": {
      "image/png": "[encoded data removed]",
      "text/plain": [
       "<Figure size 640x480 with 1 Axes>"
      ]
     },
     "metadata": {},
     "output_type": "display_data"
    }
   ],
   "source": [
    "sum_tp = sum(tp_tot)\n",
    "sum_tn = sum(tn_tot)\n",
    "sum_fp = sum(fp_tot)\n",
    "sum_fn = sum(fn_tot)\n",
    "\n",
    "\n",
    "\n",
    "\n",
    "cf_matrix = np.array([[sum_tp/(sum_tp+sum_fp), sum_fp/(sum_tp+sum_fp)],\n",
    "                       [sum_fn/(sum_tn+sum_fn), sum_tn/(sum_tn+sum_fn)]])\n",
    "\n",
    "labels = ['Tool', 'Background']\n",
    "sns.heatmap(cf_matrix, annot=True, cmap='viridis',  xticklabels=labels, yticklabels=labels, cbar=False)\n",
    "plt.xlabel('Actual')\n",
    "plt.ylabel('Predicted');"
   ]
  }
 ],
 "metadata": {
  "kernelspec": {
   "display_name": "Python 3",
   "language": "python",
   "name": "python3"
  },
  "language_info": {
   "codemirror_mode": {
    "name": "ipython",
    "version": 3
   },
   "file_extension": ".py",
   "mimetype": "text/x-python",
   "name": "python",
   "nbconvert_exporter": "python",
   "pygments_lexer": "ipython3",
   "version": "3.10.11"
  },
  "orig_nbformat": 4
 },
 "nbformat": 4,
 "nbformat_minor": 2
}
