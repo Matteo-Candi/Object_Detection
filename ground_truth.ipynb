{
 "cells": [
  {
   "cell_type": "code",
   "execution_count": 11,
   "metadata": {},
   "outputs": [],
   "source": [
    "\n",
    "import cv2\n",
    "import json\n",
    "import numpy as np\n",
    "from sklearn.metrics import jaccard_score"
   ]
  },
  {
   "cell_type": "code",
   "execution_count": 46,
   "metadata": {},
   "outputs": [
    {
     "name": "stdout",
     "output_type": "stream",
     "text": [
      "Jaccard index: 0.7474853310980721\n"
     ]
    }
   ],
   "source": [
    "image = cv2.imread(\"C:/Users\\mcm23\\OneDrive\\Desktop\\GitHub\\Object_Detection\\images\\\\accendino\\\\accendino_1.png\")\n",
    "\n",
    "with open('C:/Users\\mcm23\\OneDrive\\Desktop\\GitHub\\Object_Detection\\images\\\\accendino\\\\accedino_gt.json', 'r') as f:\n",
    "    ground_truth = json.load(f)\n",
    "\n",
    "for el in ground_truth:\n",
    "    x_pos = ground_truth[el]['regions'][0]['shape_attributes']['all_points_x']\n",
    "    y_pos = ground_truth[el]['regions'][0]['shape_attributes']['all_points_y']\n",
    "    break\n",
    "\n",
    "vertices = np.array([[x_pos[i], y_pos[i]] for i in range(len(x_pos))])\n",
    "\n",
    "gray = cv2.cvtColor(image, cv2.COLOR_BGR2GRAY)\n",
    "threshold = cv2.threshold(gray, 0, 255, cv2.THRESH_BINARY + cv2.THRESH_OTSU)[1]\n",
    "\n",
    "truth_mask = np.zeros_like(threshold)\n",
    "cv2.fillPoly(truth_mask, [vertices], 255)\n",
    "truth_mask = truth_mask.astype(bool).flatten()\n",
    "\n",
    "\n",
    "kernel = np.ones((5,5), np.uint8)\n",
    "opening = cv2.morphologyEx(threshold, cv2.MORPH_OPEN, kernel, iterations=2)\n",
    "opening = opening.astype(bool)\n",
    "opening = np.array([not elem for elem in opening.flatten()])\n",
    "\n",
    "\n",
    "jaccard_index = jaccard_score(truth_mask, opening)\n",
    "print(f\"Jaccard index: {jaccard_index}\")\n"
   ]
  },
  {
   "cell_type": "code",
   "execution_count": 51,
   "metadata": {},
   "outputs": [
    {
     "name": "stdout",
     "output_type": "stream",
     "text": [
      "           Predicted\n",
      "           Positive Negative\n",
      "Actual  | Positive  702        265628\n",
      "        | Negative  3567        503\n"
     ]
    }
   ],
   "source": [
    "from sklearn.metrics import confusion_matrix\n",
    "\n",
    "from sklearn.metrics import confusion_matrix\n",
    "\n",
    "# Example ground truth and predictions\n",
    "ground_truth = truth_mask.flatten()\n",
    "predictions = np.array([not elem for elem in opening.flatten()])\n",
    "\n",
    "# Calculate the confusion matrix\n",
    "tn, fp, fn, tp = confusion_matrix(ground_truth, predictions, labels=[True, False]).ravel()\n",
    "\n",
    "# Print the confusion matrix\n",
    "print(\"           Predicted\")\n",
    "print(\"           Positive Negative\")\n",
    "print(\"Actual  | Positive  %d        %d\" % (tp, fn))\n",
    "print(\"        | Negative  %d        %d\" % (fp, tn))\n",
    "\n"
   ]
  }
 ],
 "metadata": {
  "kernelspec": {
   "display_name": "Python 3",
   "language": "python",
   "name": "python3"
  },
  "language_info": {
   "codemirror_mode": {
    "name": "ipython",
    "version": 3
   },
   "file_extension": ".py",
   "mimetype": "text/x-python",
   "name": "python",
   "nbconvert_exporter": "python",
   "pygments_lexer": "ipython3",
   "version": "3.10.11"
  },
  "orig_nbformat": 4
 },
 "nbformat": 4,
 "nbformat_minor": 2
}
