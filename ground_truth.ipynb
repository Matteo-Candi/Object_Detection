{
 "cells": [
  {
   "cell_type": "code",
   "execution_count": 1,
   "metadata": {},
   "outputs": [],
   "source": [
    "import cv2\n",
    "import json\n",
    "import numpy as np\n",
    "import seaborn as sns\n",
    "from tqdm import tqdm\n",
    "import matplotlib.pyplot as plt\n",
    "from sklearn.metrics import confusion_matrix"
   ]
  },
  {
   "cell_type": "code",
   "execution_count": 2,
   "metadata": {},
   "outputs": [
    {
     "name": "stderr",
     "output_type": "stream",
     "text": [
      "  0%|          | 0/10 [00:00<?, ?it/s]"
     ]
    },
    {
     "name": "stdout",
     "output_type": "stream",
     "text": [
      "[ True  True  True ...  True  True  True]\n"
     ]
    },
    {
     "name": "stderr",
     "output_type": "stream",
     "text": [
      "\n"
     ]
    },
    {
     "ename": "ValueError",
     "evalue": "Found input variables with inconsistent numbers of samples: [1, 270400]",
     "output_type": "error",
     "traceback": [
      "\u001b[1;31m---------------------------------------------------------------------------\u001b[0m",
      "\u001b[1;31mValueError\u001b[0m                                Traceback (most recent call last)",
      "\u001b[1;32mc:\\Users\\mcm23\\OneDrive\\Desktop\\GitHub\\Object_Detection\\ground_truth.ipynb Cell 2\u001b[0m in \u001b[0;36m1\n\u001b[0;32m    <a href='vscode-notebook-cell:/c%3A/Users/mcm23/OneDrive/Desktop/GitHub/Object_Detection/ground_truth.ipynb#W1sZmlsZQ%3D%3D?line=141'>142</a>\u001b[0m ground_truth \u001b[39m=\u001b[39m truth_mask\u001b[39m.\u001b[39mflatten()\n\u001b[0;32m    <a href='vscode-notebook-cell:/c%3A/Users/mcm23/OneDrive/Desktop/GitHub/Object_Detection/ground_truth.ipynb#W1sZmlsZQ%3D%3D?line=142'>143</a>\u001b[0m predictions \u001b[39m=\u001b[39m [\u001b[39mnot\u001b[39;00m elem \u001b[39mfor\u001b[39;00m elem \u001b[39min\u001b[39;00m opening\u001b[39m.\u001b[39mflatten()]\n\u001b[1;32m--> <a href='vscode-notebook-cell:/c%3A/Users/mcm23/OneDrive/Desktop/GitHub/Object_Detection/ground_truth.ipynb#W1sZmlsZQ%3D%3D?line=143'>144</a>\u001b[0m tn, fp, fn, tp \u001b[39m=\u001b[39m confusion_matrix(ground_truth, predictions, labels\u001b[39m=\u001b[39;49m[\u001b[39mTrue\u001b[39;49;00m, \u001b[39mFalse\u001b[39;49;00m])\u001b[39m.\u001b[39mravel()\n\u001b[0;32m    <a href='vscode-notebook-cell:/c%3A/Users/mcm23/OneDrive/Desktop/GitHub/Object_Detection/ground_truth.ipynb#W1sZmlsZQ%3D%3D?line=144'>145</a>\u001b[0m tp_tot\u001b[39m.\u001b[39mappend(tp)\n\u001b[0;32m    <a href='vscode-notebook-cell:/c%3A/Users/mcm23/OneDrive/Desktop/GitHub/Object_Detection/ground_truth.ipynb#W1sZmlsZQ%3D%3D?line=145'>146</a>\u001b[0m tn_tot\u001b[39m.\u001b[39mappend(tn)\n",
      "File \u001b[1;32m~\\AppData\\Local\\Packages\\PythonSoftwareFoundation.Python.3.10_qbz5n2kfra8p0\\LocalCache\\local-packages\\Python310\\site-packages\\sklearn\\metrics\\_classification.py:307\u001b[0m, in \u001b[0;36mconfusion_matrix\u001b[1;34m(y_true, y_pred, labels, sample_weight, normalize)\u001b[0m\n\u001b[0;32m    222\u001b[0m \u001b[39mdef\u001b[39;00m \u001b[39mconfusion_matrix\u001b[39m(\n\u001b[0;32m    223\u001b[0m     y_true, y_pred, \u001b[39m*\u001b[39m, labels\u001b[39m=\u001b[39m\u001b[39mNone\u001b[39;00m, sample_weight\u001b[39m=\u001b[39m\u001b[39mNone\u001b[39;00m, normalize\u001b[39m=\u001b[39m\u001b[39mNone\u001b[39;00m\n\u001b[0;32m    224\u001b[0m ):\n\u001b[0;32m    225\u001b[0m     \u001b[39m\"\"\"Compute confusion matrix to evaluate the accuracy of a classification.\u001b[39;00m\n\u001b[0;32m    226\u001b[0m \n\u001b[0;32m    227\u001b[0m \u001b[39m    By definition a confusion matrix :math:`C` is such that :math:`C_{i, j}`\u001b[39;00m\n\u001b[1;32m   (...)\u001b[0m\n\u001b[0;32m    305\u001b[0m \u001b[39m    (0, 2, 1, 1)\u001b[39;00m\n\u001b[0;32m    306\u001b[0m \u001b[39m    \"\"\"\u001b[39;00m\n\u001b[1;32m--> 307\u001b[0m     y_type, y_true, y_pred \u001b[39m=\u001b[39m _check_targets(y_true, y_pred)\n\u001b[0;32m    308\u001b[0m     \u001b[39mif\u001b[39;00m y_type \u001b[39mnot\u001b[39;00m \u001b[39min\u001b[39;00m (\u001b[39m\"\u001b[39m\u001b[39mbinary\u001b[39m\u001b[39m\"\u001b[39m, \u001b[39m\"\u001b[39m\u001b[39mmulticlass\u001b[39m\u001b[39m\"\u001b[39m):\n\u001b[0;32m    309\u001b[0m         \u001b[39mraise\u001b[39;00m \u001b[39mValueError\u001b[39;00m(\u001b[39m\"\u001b[39m\u001b[39m%s\u001b[39;00m\u001b[39m is not supported\u001b[39m\u001b[39m\"\u001b[39m \u001b[39m%\u001b[39m y_type)\n",
      "File \u001b[1;32m~\\AppData\\Local\\Packages\\PythonSoftwareFoundation.Python.3.10_qbz5n2kfra8p0\\LocalCache\\local-packages\\Python310\\site-packages\\sklearn\\metrics\\_classification.py:84\u001b[0m, in \u001b[0;36m_check_targets\u001b[1;34m(y_true, y_pred)\u001b[0m\n\u001b[0;32m     57\u001b[0m \u001b[39mdef\u001b[39;00m \u001b[39m_check_targets\u001b[39m(y_true, y_pred):\n\u001b[0;32m     58\u001b[0m     \u001b[39m\"\"\"Check that y_true and y_pred belong to the same classification task.\u001b[39;00m\n\u001b[0;32m     59\u001b[0m \n\u001b[0;32m     60\u001b[0m \u001b[39m    This converts multiclass or binary types to a common shape, and raises a\u001b[39;00m\n\u001b[1;32m   (...)\u001b[0m\n\u001b[0;32m     82\u001b[0m \u001b[39m    y_pred : array or indicator matrix\u001b[39;00m\n\u001b[0;32m     83\u001b[0m \u001b[39m    \"\"\"\u001b[39;00m\n\u001b[1;32m---> 84\u001b[0m     check_consistent_length(y_true, y_pred)\n\u001b[0;32m     85\u001b[0m     type_true \u001b[39m=\u001b[39m type_of_target(y_true, input_name\u001b[39m=\u001b[39m\u001b[39m\"\u001b[39m\u001b[39my_true\u001b[39m\u001b[39m\"\u001b[39m)\n\u001b[0;32m     86\u001b[0m     type_pred \u001b[39m=\u001b[39m type_of_target(y_pred, input_name\u001b[39m=\u001b[39m\u001b[39m\"\u001b[39m\u001b[39my_pred\u001b[39m\u001b[39m\"\u001b[39m)\n",
      "File \u001b[1;32m~\\AppData\\Local\\Packages\\PythonSoftwareFoundation.Python.3.10_qbz5n2kfra8p0\\LocalCache\\local-packages\\Python310\\site-packages\\sklearn\\utils\\validation.py:387\u001b[0m, in \u001b[0;36mcheck_consistent_length\u001b[1;34m(*arrays)\u001b[0m\n\u001b[0;32m    385\u001b[0m uniques \u001b[39m=\u001b[39m np\u001b[39m.\u001b[39munique(lengths)\n\u001b[0;32m    386\u001b[0m \u001b[39mif\u001b[39;00m \u001b[39mlen\u001b[39m(uniques) \u001b[39m>\u001b[39m \u001b[39m1\u001b[39m:\n\u001b[1;32m--> 387\u001b[0m     \u001b[39mraise\u001b[39;00m \u001b[39mValueError\u001b[39;00m(\n\u001b[0;32m    388\u001b[0m         \u001b[39m\"\u001b[39m\u001b[39mFound input variables with inconsistent numbers of samples: \u001b[39m\u001b[39m%r\u001b[39;00m\u001b[39m\"\u001b[39m\n\u001b[0;32m    389\u001b[0m         \u001b[39m%\u001b[39m [\u001b[39mint\u001b[39m(l) \u001b[39mfor\u001b[39;00m l \u001b[39min\u001b[39;00m lengths]\n\u001b[0;32m    390\u001b[0m     )\n",
      "\u001b[1;31mValueError\u001b[0m: Found input variables with inconsistent numbers of samples: [1, 270400]"
     ]
    }
   ],
   "source": [
    "import cv2\n",
    "import json\n",
    "import numpy as np\n",
    "import seaborn as sns\n",
    "from tqdm import tqdm\n",
    "import matplotlib.pyplot as plt\n",
    "from sklearn.metrics import confusion_matrix\n",
    "\n",
    "\n",
    "\n",
    "\n",
    "tools = ['accendino', 'cacciavite', 'chiave', 'forbici', 'martello', 'metro', 'nastro', 'pappagallo', 'penna', 'spillatrice']\n",
    "tp_tot, tn_tot, fp_tot, fn_tot = [], [], [], []\n",
    "\n",
    "\n",
    "yolo_model = cv2.dnn.readNetFromDarknet(\"yolov3.cfg\", \"yolov3.weights\")\n",
    "\n",
    "\n",
    "for tool in tqdm(tools):\n",
    "\n",
    "    with open(f\"C:/Users\\mcm23\\OneDrive\\Desktop\\GitHub\\Object_Detection\\images\\{tool}\\{tool}_gt.json\", 'r') as f:\n",
    "        ground_truth_file = json.load(f)\n",
    "\n",
    "    for pos, el in enumerate(ground_truth_file):\n",
    "        # Ground truth.\n",
    "        x_pos = ground_truth_file[el]['regions'][0]['shape_attributes']['all_points_x']\n",
    "        y_pos = ground_truth_file[el]['regions'][0]['shape_attributes']['all_points_y']\n",
    "        vertices = np.array([[x_pos[i], y_pos[i]] for i in range(len(x_pos))])\n",
    "\n",
    "        image = cv2.imread(f\"C:/Users\\mcm23\\OneDrive\\Desktop\\GitHub\\Object_Detection\\images\\{tool}\\{tool}_{pos+1}.png\")\n",
    "\n",
    "        if pos < 5:\n",
    "            background_path = \"C:/Users\\mcm23\\OneDrive\\Desktop\\GitHub\\Object_Detection\\images\\\\background\\\\bianco.jpg\"\n",
    "        elif pos < 10:\n",
    "            background_path = \"C:/Users\\mcm23\\OneDrive\\Desktop\\GitHub\\Object_Detection\\images\\\\background\\\\cemento.jpg\"\n",
    "        elif pos < 15:\n",
    "            background_path = \"C:/Users\\mcm23\\OneDrive\\Desktop\\GitHub\\Object_Detection\\images\\\\background\\\\bancone.jpg\"\n",
    "        else:\n",
    "            background_path = \"C:/Users\\mcm23\\OneDrive\\Desktop\\GitHub\\Object_Detection\\images\\\\background\\\\coperta.jpg\"\n",
    "\n",
    "\n",
    "        a = 5\n",
    "        # IMAGE PREPROCESSING\n",
    "        gray = cv2.cvtColor(image, cv2.COLOR_BGR2GRAY)\n",
    "\n",
    "\n",
    "                # # # BACKGROUND SUBTRACTION\n",
    "        background = cv2.imread(background_path)\n",
    "        background = cv2.cvtColor(background, cv2.COLOR_BGR2GRAY)\n",
    "        diff = cv2.absdiff(background, gray)\n",
    "        # # diff = cv2.GaussianBlur(diff, (5, 5), cv2.BORDER_DEFAULT)\n",
    "\n",
    "\n",
    "\n",
    "\n",
    "        # gray = cv2.GaussianBlur(gray, (a, a), cv2.BORDER_DEFAULT)     # problem with cacciavite, toglie il gambo\n",
    "        kernel = cv2.getStructuringElement(cv2.MORPH_ELLIPSE, (3, 3))\n",
    "        eroded_gray = cv2.erode(diff, kernel, iterations=3)\n",
    "\n",
    "        kernel = np.ones((3,3), np.uint8)\n",
    "        dilated_img = cv2.dilate(eroded_gray, kernel, iterations=1)\n",
    "\n",
    "\n",
    "\n",
    "        threshold, mask = cv2.threshold(dilated_img, 0, 255, cv2.THRESH_BINARY+cv2.THRESH_OTSU)\n",
    "\n",
    "        # cv2.imshow(\"Masked Image\", mask)\n",
    "        # cv2.waitKey(0)\n",
    "        # cv2.destroyAllWindows()\n",
    "\n",
    "\n",
    "        # # # BACKGROUND SUBTRACTION\n",
    "        # background = cv2.imread(background_path)\n",
    "        # background = cv2.cvtColor(background, cv2.COLOR_BGR2GRAY)\n",
    "        # eroded = cv2.erode(background, kernel, iterations=3)\n",
    "        # # background = cv2.GaussianBlur(background, (a, a), cv2.BORDER_DEFAULT)\n",
    "        # diff = cv2.absdiff(eroded, eroded_gray)\n",
    "        # # diff = cv2.GaussianBlur(diff, (5, 5), cv2.BORDER_DEFAULT)\n",
    "\n",
    "\n",
    "\n",
    "        # cv2.imshow(\"Masked Image\", diff)\n",
    "        # cv2.waitKey(0)\n",
    "        # cv2.destroyAllWindows()\n",
    "\n",
    "\n",
    "        # edges = cv2.Canny(diff, 30, 100)\n",
    "        # contours, hierarchy = cv2.findContours(edges, cv2.RETR_EXTERNAL, cv2.CHAIN_APPROX_SIMPLE)\n",
    "        # cv2.drawContours(image, contours, -1, (0, 255, 0), 2)\n",
    "\n",
    "        # cv2.imshow(\"Masked Image\", image)\n",
    "        # cv2.waitKey(0)\n",
    "        # cv2.destroyAllWindows()\n",
    "\n",
    "\n",
    "\n",
    "\n",
    "\n",
    "        # thresh = cv2.adaptiveThreshold(gray, 255, cv2.ADAPTIVE_THRESH_GAUSSIAN_C, cv2.THRESH_BINARY, 15, 2)\n",
    "\n",
    "\n",
    "\n",
    "\n",
    "        # # # applicare la soglia alla mappa di sfondo\n",
    "        # threshold, mask = cv2.threshold(threshold, 0, 255, cv2.THRESH_BINARY+cv2.THRESH_OTSU)\n",
    "\n",
    "        # kernel = cv2.getStructuringElement(cv2.MORPH_ELLIPSE, (5, 5))\n",
    "\n",
    "        # # Apply erosion to remove small patterns on the background\n",
    "        # eroded = cv2.erode(mask, kernel, iterations=3)\n",
    "\n",
    "\n",
    "\n",
    "\n",
    "        # masked_image = cv2.bitwise_and(image, image, mask=mask)\n",
    "\n",
    "        # final = cv2.cvtColor(masked_image, cv2.COLOR_BGR2GRAY)\n",
    "\n",
    "\n",
    "        # # Display the resulting image\n",
    "        # cv2.imshow(\"Masked Image\", eroded)\n",
    "        # cv2.waitKey(0)\n",
    "\n",
    "\n",
    "\n",
    "\n",
    "\n",
    "\n",
    "\n",
    "\n",
    "\n",
    "        # Applicare ground truth all'immagine.\n",
    "        truth_mask = np.zeros_like(threshold)\n",
    "        cv2.fillPoly(truth_mask, [vertices], 255)\n",
    "        truth_mask = truth_mask.astype(bool).flatten()\n",
    "\n",
    "        opening = mask.astype(bool)\n",
    "        opening = np.array([not elem for elem in opening.flatten()])\n",
    "        print(opening)\n",
    "\n",
    "        # Confronto tra segmentazione e ground truth.\n",
    "        ground_truth = truth_mask.flatten()\n",
    "        predictions = [not elem for elem in opening.flatten()]\n",
    "        tn, fp, fn, tp = confusion_matrix(ground_truth, predictions, labels=[True, False]).ravel()\n",
    "        tp_tot.append(tp)\n",
    "        tn_tot.append(tn)\n",
    "        fp_tot.append(fp)\n",
    "        fn_tot.append(fn)"
   ]
  },
  {
   "cell_type": "code",
   "execution_count": 2,
   "metadata": {},
   "outputs": [
    {
     "ename": "NameError",
     "evalue": "name 'tp_tot' is not defined",
     "output_type": "error",
     "traceback": [
      "\u001b[1;31m---------------------------------------------------------------------------\u001b[0m",
      "\u001b[1;31mNameError\u001b[0m                                 Traceback (most recent call last)",
      "\u001b[1;32mc:\\Users\\mcm23\\OneDrive\\Desktop\\GitHub\\Object_Detection\\ground_truth.ipynb Cell 3\u001b[0m in \u001b[0;36m1\n\u001b[1;32m----> <a href='vscode-notebook-cell:/c%3A/Users/mcm23/OneDrive/Desktop/GitHub/Object_Detection/ground_truth.ipynb#W2sZmlsZQ%3D%3D?line=0'>1</a>\u001b[0m sum_tp, sum_tn, sum_fp, sum_fn \u001b[39m=\u001b[39m \u001b[39msum\u001b[39m(tp_tot), \u001b[39msum\u001b[39m(tn_tot), \u001b[39msum\u001b[39m(fp_tot), \u001b[39msum\u001b[39m(fn_tot) \n\u001b[0;32m      <a href='vscode-notebook-cell:/c%3A/Users/mcm23/OneDrive/Desktop/GitHub/Object_Detection/ground_truth.ipynb#W2sZmlsZQ%3D%3D?line=2'>3</a>\u001b[0m cf_matrix \u001b[39m=\u001b[39m np\u001b[39m.\u001b[39marray([[sum_tp\u001b[39m/\u001b[39m(sum_tp\u001b[39m+\u001b[39msum_fp), sum_fp\u001b[39m/\u001b[39m(sum_tp\u001b[39m+\u001b[39msum_fp)],\n\u001b[0;32m      <a href='vscode-notebook-cell:/c%3A/Users/mcm23/OneDrive/Desktop/GitHub/Object_Detection/ground_truth.ipynb#W2sZmlsZQ%3D%3D?line=3'>4</a>\u001b[0m                        [sum_fn\u001b[39m/\u001b[39m(sum_tn\u001b[39m+\u001b[39msum_fn), sum_tn\u001b[39m/\u001b[39m(sum_tn\u001b[39m+\u001b[39msum_fn)]])\n\u001b[0;32m      <a href='vscode-notebook-cell:/c%3A/Users/mcm23/OneDrive/Desktop/GitHub/Object_Detection/ground_truth.ipynb#W2sZmlsZQ%3D%3D?line=5'>6</a>\u001b[0m labels \u001b[39m=\u001b[39m [\u001b[39m'\u001b[39m\u001b[39mTool\u001b[39m\u001b[39m'\u001b[39m, \u001b[39m'\u001b[39m\u001b[39mBackground\u001b[39m\u001b[39m'\u001b[39m]\n",
      "\u001b[1;31mNameError\u001b[0m: name 'tp_tot' is not defined"
     ]
    }
   ],
   "source": [
    "sum_tp, sum_tn, sum_fp, sum_fn = sum(tp_tot), sum(tn_tot), sum(fp_tot), sum(fn_tot) \n",
    "\n",
    "cf_matrix = np.array([[sum_tp/(sum_tp+sum_fp), sum_fp/(sum_tp+sum_fp)],\n",
    "                       [sum_fn/(sum_tn+sum_fn), sum_tn/(sum_tn+sum_fn)]])\n",
    "\n",
    "labels = ['Tool', 'Background']\n",
    "sns.heatmap(cf_matrix, annot=True, cmap='viridis',  xticklabels=labels, yticklabels=labels, cbar=False, fmt=\".1%\")\n",
    "plt.title(\"K-means (per clustering)\")\n",
    "plt.xlabel('Actual')\n",
    "plt.ylabel('Predicted');"
   ]
  },
  {
   "cell_type": "code",
   "execution_count": 1,
   "metadata": {},
   "outputs": [
    {
     "name": "stderr",
     "output_type": "stream",
     "text": [
      " 10%|█         | 1/10 [00:31<04:47, 31.90s/it]"
     ]
    }
   ],
   "source": []
  }
 ],
 "metadata": {
  "kernelspec": {
   "display_name": "Python 3",
   "language": "python",
   "name": "python3"
  },
  "language_info": {
   "codemirror_mode": {
    "name": "ipython",
    "version": 3
   },
   "file_extension": ".py",
   "mimetype": "text/x-python",
   "name": "python",
   "nbconvert_exporter": "python",
   "pygments_lexer": "ipython3",
   "version": "3.10.11"
  },
  "orig_nbformat": 4
 },
 "nbformat": 4,
 "nbformat_minor": 2
}
