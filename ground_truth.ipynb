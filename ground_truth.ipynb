{
 "cells": [
  {
   "cell_type": "code",
   "execution_count": null,
   "metadata": {},
   "outputs": [],
   "source": [
    "import cv2\n",
    "import json\n",
    "import numpy as np\n",
    "import seaborn as sns\n",
    "from tqdm import tqdm\n",
    "import matplotlib.pyplot as plt\n",
    "from sklearn.metrics import confusion_matrix"
   ]
  },
  {
   "cell_type": "code",
   "execution_count": 70,
   "metadata": {},
   "outputs": [
    {
     "name": "stderr",
     "output_type": "stream",
     "text": [
      "100%|██████████| 9/9 [00:07<00:00,  1.15it/s]\n"
     ]
    }
   ],
   "source": [
    "tools = ['accendino', 'cacciavite', 'chiave', 'forbici', 'martello', 'metro', 'pappagallo', 'penna', 'spillatrice']\n",
    "tp_tot, tn_tot, fp_tot, fn_tot = [], [], [], []\n",
    "\n",
    "\n",
    "for tool in tqdm(tools):\n",
    "\n",
    "    with open(f\"C:/Users\\mcm23\\OneDrive\\Desktop\\GitHub\\Object_Detection\\images\\{tool}\\{tool}_gt.json\", 'r') as f:\n",
    "        ground_truth_file = json.load(f)\n",
    "\n",
    "    for pos, el in enumerate(ground_truth_file):\n",
    "\n",
    "        if pos < 5:\n",
    "            truth_mask = np.zeros((520, 520))\n",
    "            image = cv2.imread(f\"C:/Users\\mcm23\\OneDrive\\Desktop\\GitHub\\Object_Detection\\images\\{tool}\\{tool}_{pos+1}.png\")\n",
    "\n",
    "            for i in range(len(ground_truth_file[el]['regions'])):\n",
    "\n",
    "                x_pos = ground_truth_file[el]['regions'][i]['shape_attributes']['all_points_x']\n",
    "                y_pos = ground_truth_file[el]['regions'][i]['shape_attributes']['all_points_y']\n",
    "                vertices = np.array([[x_pos[u], y_pos[u]] for u in range(len(x_pos))])\n",
    "                if i == 0:\n",
    "                        cv2.fillPoly(truth_mask, [vertices], 255)\n",
    "                else:\n",
    "                        cv2.fillPoly(truth_mask, [vertices], 0)\n",
    "\n",
    "            # Ground truth.\n",
    "            x_pos = ground_truth_file[el]['regions'][0]['shape_attributes']['all_points_x']\n",
    "            y_pos = ground_truth_file[el]['regions'][0]['shape_attributes']['all_points_y']\n",
    "            vertices = np.array([[x_pos[i], y_pos[i]] for i in range(len(x_pos))])\n",
    "\n",
    "            # Preprocessing\n",
    "            gray = cv2.cvtColor(image, cv2.COLOR_BGR2GRAY)\n",
    "            gray = cv2.GaussianBlur(gray, (3, 3), cv2.BORDER_DEFAULT)\n",
    "            kernel = cv2.getStructuringElement(cv2.MORPH_ELLIPSE, (3, 3))\n",
    "            gray = cv2.erode(gray, kernel, iterations=3)\n",
    "\n",
    "\n",
    "            ## Different segmentations.\n",
    "\n",
    "            # 1) Sogliaura di OTSU\n",
    "            # _, mask = cv2.threshold(gray, 0, 255, cv2.THRESH_BINARY+cv2.THRESH_OTSU)\n",
    "\n",
    "            # 2) K-means\n",
    "            small = cv2.pyrDown(gray)\n",
    "            Z = small.reshape((-1, 1))\n",
    "            Z = np.float32(Z)\n",
    "            criteria = (cv2.TERM_CRITERIA_EPS + cv2.TERM_CRITERIA_MAX_ITER, 10, 1.0)\n",
    "            K = 2\n",
    "            ret, label, center = cv2.kmeans(Z, K, None, criteria, 10, cv2.KMEANS_RANDOM_CENTERS)\n",
    "            center = np.uint8(center)\n",
    "            res = center[label.flatten()]\n",
    "            res2 = res.reshape((small.shape))\n",
    "            res2 = cv2.pyrUp(res2)\n",
    "            # _, mask = cv2.threshold(res2, 0, 255, cv2.THRESH_BINARY + cv2.THRESH_OTSU)\n",
    "\n",
    "\n",
    "\n",
    "            # # 1)\n",
    "            # # CANNY Edge Detection\n",
    "            # edges = cv2.Canny(gray, threshold1=30, threshold2=100)\n",
    "            # _, binary_image = cv2.threshold(edges, 0, 255, cv2.THRESH_BINARY+cv2.THRESH_OTSU)\n",
    "\n",
    "            # # 2)\n",
    "            # # Binarizzazione Adattiva\n",
    "            # thresh = cv2.adaptiveThreshold(gray, 255, cv2.ADAPTIVE_THRESH_GAUSSIAN_C, cv2.THRESH_BINARY, 11, 2)\n",
    "\n",
    "\n",
    "\n",
    "            # cv2.imshow(\"Masked Image\", mask)\n",
    "            # cv2.waitKey(0)\n",
    "            # cv2.destroyAllWindows()\n",
    "\n",
    "            \n",
    "\n",
    "            # Ground truth mask\n",
    "            truth_mask = truth_mask.astype(bool).flatten()\n",
    "            opening = mask.astype(bool)\n",
    "\n",
    "            # Confronto tra segmentazione e ground truth.\n",
    "            ground_truth = truth_mask.flatten()\n",
    "            predictions = [not elem for elem in opening.flatten()]\n",
    "\n",
    "            tn, fp, fn, tp = confusion_matrix(ground_truth, predictions, labels=[True, False]).ravel()\n",
    "            tp_tot.append(tp)\n",
    "            tn_tot.append(tn)\n",
    "            fp_tot.append(fp)\n",
    "            fn_tot.append(fn)"
   ]
  },
  {
   "cell_type": "code",
   "execution_count": 73,
   "metadata": {},
   "outputs": [
    {
     "data": {
      "image/png": "[encoded data removed]",
      "text/plain": [
       "<Figure size 640x480 with 1 Axes>"
      ]
     },
     "metadata": {},
     "output_type": "display_data"
    }
   ],
   "source": [
    "sum_tp, sum_tn, sum_fp, sum_fn = sum(tp_tot), sum(tn_tot), sum(fp_tot), sum(fn_tot) \n",
    "\n",
    "cf_matrix = np.array([[sum_tp/(sum_tp+sum_fp), sum_fp/(sum_tp+sum_fp)],\n",
    "                       [sum_fn/(sum_tn+sum_fn), sum_tn/(sum_tn+sum_fn)]])\n",
    "\n",
    "labels = ['Tool', 'Background']\n",
    "sns.heatmap(cf_matrix, annot=True, cmap='viridis',  xticklabels=labels, yticklabels=labels, cbar=False, fmt=\".1%\")\n",
    "plt.title(\"K-means\")\n",
    "plt.xlabel('Actual')\n",
    "plt.ylabel('Predicted');"
   ]
  }
 ],
 "metadata": {
  "kernelspec": {
   "display_name": "Python 3",
   "language": "python",
   "name": "python3"
  },
  "language_info": {
   "codemirror_mode": {
    "name": "ipython",
    "version": 3
   },
   "file_extension": ".py",
   "mimetype": "text/x-python",
   "name": "python",
   "nbconvert_exporter": "python",
   "pygments_lexer": "ipython3",
   "version": "3.10.11"
  },
  "orig_nbformat": 4
 },
 "nbformat": 4,
 "nbformat_minor": 2
}
