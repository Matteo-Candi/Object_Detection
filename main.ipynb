{
 "cells": [
  {
   "attachments": {},
   "cell_type": "markdown",
   "metadata": {},
   "source": [
    "# **Tools Recognition**"
   ]
  },
  {
   "cell_type": "code",
   "execution_count": null,
   "metadata": {},
   "outputs": [],
   "source": [
    "# Istallazione pacchetti se necessario.\n",
    "\n",
    "# pip install opencv-python"
   ]
  },
  {
   "cell_type": "code",
   "execution_count": 16,
   "metadata": {},
   "outputs": [],
   "source": [
    "# pacchetti utilizzati.\n",
    "import os\n",
    "import cv2\n",
    "import glob\n",
    "from tqdm import tqdm"
   ]
  },
  {
   "attachments": {},
   "cell_type": "markdown",
   "metadata": {},
   "source": [
    "### 1) Raccolta e etichettatura delle immagini"
   ]
  },
  {
   "attachments": {},
   "cell_type": "markdown",
   "metadata": {},
   "source": [
    "- 10 diverse categorie:\n",
    "    - accendino\n",
    "    - cacciavite\n",
    "    - chiave\n",
    "    - forbici\n",
    "    - martello\n",
    "    - metro\n",
    "    - nastro\n",
    "    - pappagallo\n",
    "    - penna\n",
    "    - spillatrice \n",
    "\n",
    "- 4 diverse superfici:\n",
    "    - tavolo bianco\n",
    "    - banco da lavoro\n",
    "    - pavimento di cemento\n",
    "    - coperta a righe\n",
    "- 20 immagini per il training per ogni categoria\n",
    "- 26 immagini per il test contenenti oggetti multipli e anche estranei alle 10 categorie\n"
   ]
  },
  {
   "cell_type": "code",
   "execution_count": 10,
   "metadata": {},
   "outputs": [],
   "source": [
    "# Oggetti utilizzati.\n",
    "tool_names = ['accendino', 'cacciavite', 'chiave', 'forbici', 'martello', 'metro', 'nastro', 'pappagallo', 'penna', 'spillatrice']"
   ]
  },
  {
   "cell_type": "code",
   "execution_count": 27,
   "metadata": {},
   "outputs": [],
   "source": [
    "# Rinomiamo le immagini nelle cartelle.\n",
    "cwd = os.getcwd()\n",
    "for tool in tool_names:\n",
    "    path = os.path.join(cwd, f\"images/{tool}/\")\n",
    "    image_files = glob.glob(path + '*.jpg')\n",
    "\n",
    "    for i, file in enumerate(image_files):\n",
    "        new_name = tool+ '_' + str(i+1) + '.png'\n",
    "        os.rename(file, os.path.join(path, new_name))\n",
    "\n",
    "\n",
    "# Rinominiamo le immagini del test set.\n",
    "path = os.path.join(cwd, f\"images/Test_set/\")\n",
    "image_files = glob.glob(path + '*.jpg')\n",
    "\n",
    "for i, file in enumerate(image_files):\n",
    "    new_name = 'test_' + str(i+1) + '.png'\n",
    "    os.rename(file, os.path.join(path, new_name))"
   ]
  },
  {
   "attachments": {},
   "cell_type": "markdown",
   "metadata": {},
   "source": [
    "### 2) Pre-elaborazione delle immagini"
   ]
  },
  {
   "attachments": {},
   "cell_type": "markdown",
   "metadata": {},
   "source": [
    "- Riduzione del rumore:  è finalizzata a migliorare la qualità dell'immagine, eliminando il rumore e aumentando il contrasto tra gli oggetti dell'immagine e lo sfondo. \n"
   ]
  },
  {
   "cell_type": "code",
   "execution_count": 52,
   "metadata": {},
   "outputs": [
    {
     "name": "stderr",
     "output_type": "stream",
     "text": [
      "  0%|          | 0/10 [00:28<?, ?it/s]\n"
     ]
    }
   ],
   "source": [
    "# Riduzione del rumore.\n",
    "\n",
    "cwd = os.getcwd()\n",
    "\n",
    "for tool in tqdm(tool_names):\n",
    "    folder_path = os.path.join(cwd, f\"images/{tool}/\")\n",
    "\n",
    "    for i in range(20):\n",
    "        path = f'{folder_path}/{tool}_{i+1}.png'\n",
    "        \n",
    "        # Caricamento dell'immagine.\n",
    "        img = cv2.imread(path)\n",
    "\n",
    "        # Applicazione del filtro di riduzione del rumore.\n",
    "        img = cv2.fastNlMeansDenoisingColored(img, None, 10, 10, 7, 21)\n",
    "\n",
    "        # Salvataggio nuova immagine.\n",
    "        new_path = f'{folder_path}/{tool}_{i+1}.1.png'\n",
    "        cv2.imwrite(new_path, img)"
   ]
  },
  {
   "cell_type": "code",
   "execution_count": 46,
   "metadata": {},
   "outputs": [],
   "source": [
    "# Eventuale ricolorazione in scala di grigi.\n",
    "cwd = os.getcwd()\n",
    "\n",
    "for tool in tqdm(tool_names):\n",
    "    folder_path = os.path.join(cwd, f\"images/{tool}/\")\n",
    "\n",
    "    for i in range(20):\n",
    "        path = f'{folder_path}/{tool}_{i+1}.png'\n",
    "        # Caricamento dell'immagine.\n",
    "        img = Image.open(path)\n",
    "\n",
    "        # Conversione in scala di grigi\n",
    "        img = img.convert('L')\n",
    "\n",
    "        # Salvataggio nuova immagine.\n",
    "        new_path = f'{folder_path}/{tool}_{i+1}.1.png'\n",
    "        img.save(new_path)"
   ]
  },
  {
   "attachments": {},
   "cell_type": "markdown",
   "metadata": {},
   "source": [
    "### 3) Segmentazione delle immagini "
   ]
  },
  {
   "cell_type": "code",
   "execution_count": 18,
   "metadata": {},
   "outputs": [
    {
     "data": {
      "text/plain": [
       "'c:\\\\Users\\\\mcm23\\\\OneDrive\\\\Desktop\\\\Project\\\\images/spillatrice//spillatrice_20.1.png'"
      ]
     },
     "execution_count": 18,
     "metadata": {},
     "output_type": "execute_result"
    }
   ],
   "source": [
    "new_path"
   ]
  },
  {
   "cell_type": "code",
   "execution_count": 47,
   "metadata": {},
   "outputs": [],
   "source": [
    "a = 'accendino'\n",
    "\n",
    "new_path = os.path.join(cwd, f\"images/{a}/{a}_2.2.png\")\n",
    "img = cv2.imread(new_path, cv2.IMREAD_GRAYSCALE)\n",
    "\n",
    "# Applica la sogliatura di Otsu\n",
    "_, thresh = cv2.threshold(img, 0, 255, cv2.THRESH_BINARY + cv2.THRESH_OTSU)\n",
    "\n",
    "# Visualizza l'immagine segmentata\n",
    "cv2.imshow('Thresholded Image', thresh)\n",
    "cv2.waitKey(0)\n",
    "cv2.destroyAllWindows()"
   ]
  },
  {
   "attachments": {},
   "cell_type": "markdown",
   "metadata": {},
   "source": [
    "Ecco una possibile pipeline di elaborazione per un progetto di object detection utilizzando un modello di classificazione e un metodo di segmentazione:\n",
    "\n",
    "1) Raccolta dei dati: Prima di iniziare qualsiasi progetto di object detection, è necessario raccogliere un dataset di immagini etichettate con le classi di oggetti di interesse. Il dataset deve essere rappresentativo delle varie condizioni di luce, sfondo e posizione degli oggetti.\n",
    "\n",
    "2) Pre-elaborazione dell'immagine: L'immagine deve essere preparata per il successivo passaggio di segmentazione. Si può effettuare la riduzione del rumore o il bilanciamento del colore.\n",
    "\n",
    "3) Segmentazione dell'immagine: Una volta ottenuto l'immagine preparata, si applica un metodo di segmentazione per dividere l'immagine in regioni omogenee. Si possono utilizzare tecniche di segmentazione come la segmentazione basata sulla soglia, la segmentazione basata sulla regione o la segmentazione basata sui contorni.\n",
    "\n",
    "4) Estrazione delle features: Per ogni regione dell'immagine segmentata, si estraggono le feature utilizzate per addestrare il modello di classificazione. Le feature possono includere la forma, la texture, il colore o qualsiasi altra caratteristica che aiuti a distinguere le diverse classi di oggetti.\n",
    "\n",
    "5) Addestramento del modello di classificazione: Una volta estratte le feature, si addestra il modello di classificazione utilizzando un algoritmo di machine learning come le reti neurali, le SVM o gli alberi di decisione. Il modello viene addestrato per riconoscere le diverse classi di oggetti.\n",
    "\n",
    "6) Rilevamento degli oggetti: Una volta addestrato il modello di classificazione, si può applicare il modello all'immagine originale per rilevare gli oggetti di interesse. Utilizzando le feature estratte, il modello cerca le regioni dell'immagine che corrispondono agli oggetti di interesse.\n",
    "\n",
    "7) Post-elaborazione dell'immagine: Una volta rilevati gli oggetti, si possono applicare tecniche di post-elaborazione come la non-maximum suppression per rimuovere i falsi positivi e migliorare la precisione del modello.\n",
    "\n",
    "In sintesi, la pipeline di elaborazione per un progetto di object detection con un modello di classificazione e un metodo di segmentazione consiste in: raccolta dei dati, pre-elaborazione dell'immagine, segmentazione dell'immagine, estrazione delle feature, addestramento del modello di classificazione, rilevamento degli oggetti e post-elaborazione dell'immagine."
   ]
  }
 ],
 "metadata": {
  "kernelspec": {
   "display_name": "Python 3",
   "language": "python",
   "name": "python3"
  },
  "language_info": {
   "codemirror_mode": {
    "name": "ipython",
    "version": 3
   },
   "file_extension": ".py",
   "mimetype": "text/x-python",
   "name": "python",
   "nbconvert_exporter": "python",
   "pygments_lexer": "ipython3",
   "version": "3.10.11"
  },
  "orig_nbformat": 4
 },
 "nbformat": 4,
 "nbformat_minor": 2
}
