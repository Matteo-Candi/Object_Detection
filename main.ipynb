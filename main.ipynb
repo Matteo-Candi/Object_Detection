{
 "cells": [
  {
   "attachments": {},
   "cell_type": "markdown",
   "metadata": {},
   "source": [
    "# **Tools Recognition**"
   ]
  },
  {
   "cell_type": "code",
   "execution_count": null,
   "metadata": {},
   "outputs": [],
   "source": [
    "# Istallazione pacchetti se necessario.\n",
    "\n",
    "# pip install opencv-python"
   ]
  },
  {
   "cell_type": "code",
   "execution_count": 1,
   "metadata": {},
   "outputs": [],
   "source": [
    "# pacchetti utilizzati.\n",
    "import os\n",
    "import cv2\n",
    "import glob\n",
    "import numpy as np\n",
    "from PIL import Image\n",
    "from tqdm import tqdm"
   ]
  },
  {
   "attachments": {},
   "cell_type": "markdown",
   "metadata": {},
   "source": [
    "### 1) Raccolta e etichettatura delle immagini"
   ]
  },
  {
   "attachments": {},
   "cell_type": "markdown",
   "metadata": {},
   "source": [
    "- 10 diverse categorie:\n",
    "    - accendino\n",
    "    - cacciavite\n",
    "    - chiave\n",
    "    - forbici\n",
    "    - martello\n",
    "    - metro\n",
    "    - nastro\n",
    "    - pappagallo\n",
    "    - penna\n",
    "    - spillatrice \n",
    "\n",
    "- 4 diverse superfici:\n",
    "    - tavolo bianco\n",
    "    - banco da lavoro\n",
    "    - pavimento di cemento\n",
    "    - coperta a righe\n",
    "- 20 immagini per il training per ogni categoria\n",
    "- 26 immagini per il test contenenti oggetti multipli e anche estranei alle 10 categorie\n"
   ]
  },
  {
   "cell_type": "code",
   "execution_count": null,
   "metadata": {},
   "outputs": [],
   "source": [
    "# Oggetti utilizzati.\n",
    "tool_names = ['accendino', 'cacciavite', 'chiave', 'forbici', 'martello', 'metro', 'nastro', 'pappagallo', 'penna', 'spillatrice']"
   ]
  },
  {
   "cell_type": "code",
   "execution_count": null,
   "metadata": {},
   "outputs": [],
   "source": [
    "# Rinomiamo le immagini nelle cartelle.\n",
    "cwd = os.getcwd()\n",
    "for tool in tool_names:\n",
    "    path = os.path.join(cwd, f\"images/{tool}/\")\n",
    "    image_files = glob.glob(path + '*.png')\n",
    "\n",
    "    for i, file in enumerate(image_files):\n",
    "        new_name = tool+ '_' + str(i+1) + '.png'\n",
    "        os.rename(file, os.path.join(path, new_name))\n",
    "\n",
    "\n",
    "# Rinominiamo le immagini del test set.\n",
    "path = os.path.join(cwd, f\"images/Test_set/\")\n",
    "image_files = glob.glob(path + '*.png')\n",
    "\n",
    "for i, file in enumerate(image_files):\n",
    "    new_name = 'test_' + str(i+1) + '.png'\n",
    "    os.rename(file, os.path.join(path, new_name))"
   ]
  },
  {
   "attachments": {},
   "cell_type": "markdown",
   "metadata": {},
   "source": [
    "### 2) Pre-elaborazione delle immagini"
   ]
  },
  {
   "attachments": {},
   "cell_type": "markdown",
   "metadata": {},
   "source": [
    "- Ridimensionamento : portartiamo nello stesso formato tutte le immagini (520 x 520). Alcune delle utilità di questo passaggio possono essere una maggiore uniformità una volta che si va ad allenare l'algoritmo di calssificazione e l'aumento della diversità dei dati di training che possono portare il modello ad avere una maggiore robustezza;"
   ]
  },
  {
   "cell_type": "code",
   "execution_count": null,
   "metadata": {},
   "outputs": [],
   "source": [
    "# Portiamo tutte le immagini nella stessa dimensione (520 x 520).\n",
    "cwd = os.getcwd()\n",
    "\n",
    "for tool in tool_names:\n",
    "    path = os.path.join(cwd, f\"images/{tool}/\")\n",
    "    image_files = glob.glob(path + '*.png')\n",
    "\n",
    "    for i, file in enumerate(image_files):\n",
    "        image = Image.open(file)\n",
    "\n",
    "        # Ridimensionamento dell'immagine.\n",
    "        resized_image = image.resize((520, 520))\n",
    "        resized_image.save(file)\n",
    "\n",
    "# test-set\n",
    "path = os.path.join(cwd, f\"images/Test_set/\")\n",
    "image_files = glob.glob(path + '*.png')\n",
    "\n",
    "for i, file in enumerate(image_files):\n",
    "    image = Image.open(file)\n",
    "\n",
    "    # Ridimensionamento dell'immagine.\n",
    "    resized_image = image.resize((520, 520))\n",
    "    resized_image.save(file)"
   ]
  },
  {
   "attachments": {},
   "cell_type": "markdown",
   "metadata": {},
   "source": [
    "- Ricolorazione: applichiamo la scalda di grigi riducendo le immagini ad un unico canale rendendole più semplici da analizzare;\n",
    "- Gaussian Filter: applichiamo un `Gaussian filter` con dimensione 5x5 per sfocare l'immagine e rendere lo sfondo piu semplice da distinguere rispetto agli oggetti;"
   ]
  },
  {
   "attachments": {},
   "cell_type": "markdown",
   "metadata": {},
   "source": [
    "### 3) Segmentazione delle immagini "
   ]
  },
  {
   "attachments": {},
   "cell_type": "markdown",
   "metadata": {},
   "source": [
    "Tecniche di segmentazione prese dalle slide:\n",
    "- per contorni:\n",
    "    - Canny edge detector\n",
    "\n",
    "- per regioni:\n",
    "    - binarizzazione\n",
    "    - sogliatura automatica OTSU\n",
    "\n",
    "- mediante clustering:\n",
    "    - k-mean\n"
   ]
  },
  {
   "attachments": {},
   "cell_type": "markdown",
   "metadata": {},
   "source": [
    "Problemi:\n",
    "- ombre\n",
    "- sfondo"
   ]
  },
  {
   "cell_type": "code",
   "execution_count": null,
   "metadata": {},
   "outputs": [],
   "source": [
    "t = 'spillatrice'\n",
    "for i in range(1,21):\n",
    "    path = f'c:\\\\Users\\\\mcm23\\\\OneDrive\\\\Desktop\\\\GitHub\\\\Object_Detection\\\\images/{t}/{t}_{i}.1.png'\n",
    "    path = f'c:\\\\Users\\\\mcm23\\\\OneDrive\\\\Desktop\\\\GitHub\\\\Object_Detection\\\\images/test_set/test_{i}.png'\n",
    "\n",
    "    ## Canny Edge Detector\n",
    "    # leggi l'immagine in scala di grigi\n",
    "    img = cv2.imread(path, cv2.IMREAD_GRAYSCALE)\n",
    "\n",
    "    # Definizione del kernel di apertura\n",
    "    kernel = np.ones((5,5), np.uint8)\n",
    "\n",
    "    # Applicazione dell'operatore di apertura\n",
    "    opening = cv2.morphologyEx(img, cv2.MORPH_OPEN, kernel)\n",
    "\n",
    "    # visualizza l'immagine con i bordi individuatia\n",
    "    cv2.imshow('CANNY Edge Detector', opening)\n",
    "    cv2.waitKey(0)\n",
    "    cv2.destroyAllWindows()\n"
   ]
  },
  {
   "attachments": {},
   "cell_type": "markdown",
   "metadata": {},
   "source": [
    "### PIPELINE\n",
    "\n",
    "1) ``Raccolta dei dati``: Creiamo il nostro dataset di train e test etichettando le varie immagini e considerando varie situazioni: diverse posizioni degli oggetti, cambi di luminosità, presenza di ombre e diversi sfondi, alcuni dei quali presentano delle irregolarità.\n",
    "\n",
    "2) ``Pre-elaborazione dell'immagine``: Prima della segmentazione creiamo un *ground truth* per ogni immagine in modo tale da poter valutare lo step successivo in temini di accuratezza e modifichiamo le immagini per preparale per i prossimi step: ridimensioniamo le immagini riducendole tutte alla stessa dimensione (520 x 520 pixel) e le ricoloriamo in scala di grigi per ridurle ad un singolo canale e renderle più pratiche e semplici da elaborare.\n",
    "\n",
    "3) ``Segmentazione dell'immagine``: Una volta ottenuto l'immagine preparata, si applica un metodo di segmentazione per dividere l'immagine in regioni omogenee. Abbiamo provato ad utilizzare tecniche di segmentazione come la segmentazione basata sulla soglia, la segmentazione basata sulla regione o la segmentazione basata sui cluster: queste tecniche non hanno portato buoni risultati perchè, anche se identificano molto bene gli oggetti con una precisione quasi sempre superiore al 90%, con altrettanta precisione sbagliano ad identificare lo sfondo a causa della presenza di ombre e di sfondi che non permetono una chiara distinzione con l'oggetto considerato e presentano delle imperfezioni. Cerchiamo quindi un'altra tecnica...\n",
    "\n",
    "---\n",
    " \n",
    "\n",
    "\n",
    "4) ``Estrazione delle features``: Per ogni regione dell'immagine segmentata, si estraggono le feature utilizzate per addestrare il modello di classificazione. Le feature possono includere la forma, la texture, il colore o qualsiasi altra caratteristica che aiuti a distinguere le diverse classi di oggetti.\n",
    "\n",
    "5) ``Addestramento del modello di classificazione``: Una volta estratte le feature, si addestra il modello di classificazione utilizzando un algoritmo di machine learning come le reti neurali, le SVM o gli alberi di decisione. Il modello viene addestrato per riconoscere le diverse classi di oggetti.\n",
    "\n",
    "6) ``Rilevamento degli oggetti``: Una volta addestrato il modello di classificazione, si può applicare il modello all'immagine originale per rilevare gli oggetti di interesse. Utilizzando le feature estratte, il modello cerca le regioni dell'immagine che corrispondono agli oggetti di interesse.\n",
    "\n",
    "7) ``Post-elaborazione dell'immagine``: Una volta rilevati gli oggetti, si possono applicare tecniche di post-elaborazione come la non-maximum suppression per rimuovere i falsi positivi e migliorare la precisione del modello.\n"
   ]
  },
  {
   "attachments": {},
   "cell_type": "markdown",
   "metadata": {},
   "source": []
  }
 ],
 "metadata": {
  "kernelspec": {
   "display_name": "Python 3",
   "language": "python",
   "name": "python3"
  },
  "language_info": {
   "codemirror_mode": {
    "name": "ipython",
    "version": 3
   },
   "file_extension": ".py",
   "mimetype": "text/x-python",
   "name": "python",
   "nbconvert_exporter": "python",
   "pygments_lexer": "ipython3",
   "version": "3.10.11"
  },
  "orig_nbformat": 4
 },
 "nbformat": 4,
 "nbformat_minor": 2
}
